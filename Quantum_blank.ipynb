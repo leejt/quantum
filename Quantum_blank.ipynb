{
 "cells": [
  {
   "cell_type": "code",
   "execution_count": 6,
   "metadata": {
    "collapsed": true
   },
   "outputs": [],
   "source": [
    "import random\n",
    "from math import log, sqrt\n",
    "# may be useful...\n",
    "#import numpy as np"
   ]
  },
  {
   "cell_type": "code",
   "execution_count": 11,
   "metadata": {
    "collapsed": false
   },
   "outputs": [],
   "source": [
    "# THIS SECTION IS FOR CLASSICAL, NON-PROBABILISTIC BITS.\n",
    "# remember that the zero bit is [1, 0] and the one bit is [0, 1]\n",
    "def bits2vec(bits):\n",
    "    # take in a string of bits and return the length 2^n vector\n",
    "    # represented by that bit string.\n",
    "    # example: '101' --> [0, 0, 0, 0, 0, 1, 0, 0]\n",
    "    pass\n",
    "\n",
    "def vec2bits(vec):\n",
    "    # opposite of above: take in a bit vector and return \n",
    "    # the bit string associated with it\n",
    "    # example: [0, 0, 0, 0, 0, 1, 0, 0] --> '101'\n",
    "    pass\n",
    "    \n",
    "def cvalid(bit):\n",
    "    # check whether the bit vector is valid:\n",
    "    # * length must be a power of 2\n",
    "    # * exactly 1 bit is set to 1\n",
    "    # * all other bits set to 0\n",
    "    pass\n",
    "\n",
    "def cproduct(*bits):\n",
    "    # return the product of the bits given:\n",
    "    # example: ([0, 1], [1, 0]) --> [0, 0, 1, 0]\n",
    "    # (because it's 10)\n",
    "    pass\n",
    "    \n",
    "def cnot(a):\n",
    "    # implement the NOT gate.\n",
    "    # example: [0, 1] --> [1, 0]\n",
    "    # (because not(1) = 0)\n",
    "    pass\n",
    "\n",
    "def cand(a, b):\n",
    "    # implement the AND gate with a matrix operation.\n",
    "    # example: ([0, 1], [1, 0]) --> [1, 0]\n",
    "    # (because and(1, 0)= 0)\n",
    "    pass\n",
    "\n",
    "def cor(a, b):\n",
    "    # implement the OR gate with a matrix operation.\n",
    "    # example: ([0, 1], [1, 0]) --> [0, 1]\n",
    "    # (because or(1, 0)= 1)\n",
    "    pass\n",
    "\n",
    "def cxor(a, b):\n",
    "    # implement the XOR gate with a matrix operation.\n",
    "    pass\n",
    "\n",
    "bit0 = bits2vec('0')\n",
    "bit1 = bits2vec('1')"
   ]
  },
  {
   "cell_type": "code",
   "execution_count": 8,
   "metadata": {
    "collapsed": false
   },
   "outputs": [],
   "source": [
    "# THIS SECTION IS FOR PROBABILISTIC BITS.\n",
    "def pvalid(bit):\n",
    "    # check whether the bit is valid:\n",
    "    # * length of vector is a power of 2\n",
    "    # * sum of values = 1 (or very close)\n",
    "    # * no negative values\n",
    "    pass\n",
    "\n",
    "def pproduct(*bits):\n",
    "    # return the product of the probabilistic bits given:\n",
    "    # example: ([0.5, 0.5], [0.3, 0.7]) --> [0.15, 0.35, 0.15, 0.35]\n",
    "    # (see notes)\n",
    "    pass\n",
    "\n",
    "def psample(a):\n",
    "    # sample an element from this probabilistic bit.\n",
    "    # this will not always give the same answer!\n",
    "    # use the random library.\n",
    "    pass"
   ]
  },
  {
   "cell_type": "code",
   "execution_count": 9,
   "metadata": {
    "collapsed": false
   },
   "outputs": [],
   "source": [
    "# THIS SECTION IS FOR QUBITS.\n",
    "def qvalid(qbit):\n",
    "    # check whether the qubit is valid:\n",
    "    # * length of vector is a power of 2\n",
    "    # * 2-norm = 1 (or very close)\n",
    "    pass\n",
    "\n",
    "def qproduct(*bits):\n",
    "    # return the product of the qubits given:\n",
    "    # example: ([0.5, 0.5], [0.3, 0.7]) --> [0.15, 0.35, 0.15, 0.35]\n",
    "    # (see notes)\n",
    "    pass\n",
    "\n",
    "def qsample(a):\n",
    "    # sample an element from this qubit.\n",
    "    # this will not always give the same answer!\n",
    "    # use the random library.\n",
    "    pass\n",
    "        \n",
    "def qhadamard(a):\n",
    "    # implement the Hadamard gate (see Wikipedia or notes)\n",
    "    pass"
   ]
  }
 ],
 "metadata": {
  "kernelspec": {
   "display_name": "Python 2",
   "language": "python",
   "name": "python2"
  },
  "language_info": {
   "codemirror_mode": {
    "name": "ipython",
    "version": 2
   },
   "file_extension": ".py",
   "mimetype": "text/x-python",
   "name": "python",
   "nbconvert_exporter": "python",
   "pygments_lexer": "ipython2",
   "version": "2.7.5"
  }
 },
 "nbformat": 4,
 "nbformat_minor": 1
}
